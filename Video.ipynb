{
 "cells": [
  {
   "cell_type": "code",
   "execution_count": null,
   "metadata": {},
   "outputs": [],
   "source": [
    "import cv2\n",
    "import numpy as np\n",
    "import os\n",
    "import glob\n",
    "from os.path import isfile, join\n",
    "import re"
   ]
  },
  {
   "cell_type": "markdown",
   "metadata": {},
   "source": [
    "## Saving each frame of the video"
   ]
  },
  {
   "cell_type": "code",
   "execution_count": null,
   "metadata": {},
   "outputs": [],
   "source": [
    "vidcap = cv2.VideoCapture('E:\\\\Courses\\\\AML\\\\pix2pix-tensorflow\\\\BW.mp4')\n",
    "success,image = vidcap.read()\n",
    "count = 0\n",
    "success = True\n",
    "while success:\n",
    "    success,image = vidcap.read()\n",
    "    newimg = cv2.resize(image,(256,256))\n",
    "    cv2.imwrite(\"E:\\\\Courses\\\\AML\\\\pix2pix-tensorflow\\\\frames\\\\frame%d.jpg\" % count, newimg)     # save frame as JPEG file\n",
    "    if cv2.waitKey(10) == 27:                     # exit if Escape is hit\n",
    "        break\n",
    "    count += 1"
   ]
  },
  {
   "cell_type": "code",
   "execution_count": 39,
   "metadata": {},
   "outputs": [],
   "source": [
    "i = 0\n",
    "while(i<=1375):\n",
    "    image = cv2.imread('E:\\\\Courses\\\\AML\\\\pix2pix-tensorflow\\\\movie_test\\\\images\\\\frame%d-outputs.png'% i)\n",
    "    cv2.imwrite('E:\\\\Courses\\\\AML\\\\pix2pix-tensorflow\\\\movie_test\\\\out\\\\%d.jpg'% i, image)\n",
    "    i+=1"
   ]
  },
  {
   "cell_type": "markdown",
   "metadata": {},
   "source": [
    "## Stitching all the converted frames to video"
   ]
  },
  {
   "cell_type": "code",
   "execution_count": 87,
   "metadata": {},
   "outputs": [],
   "source": [
    "pathIn= 'E:\\\\Courses\\\\AML\\\\pix2pix-tensorflow\\\\movie_test\\\\out\\\\'\n",
    "pathOut = 'E:\\\\Courses\\\\AML\\\\pix2pix-tensorflow\\\\video.mp4'\n",
    "fps = 30\n",
    "frame_array = []\n",
    "files = []\n",
    "images = []\n",
    "\n",
    "numbers = re.compile(r'(\\d+)')\n",
    "def numericalSort(value):\n",
    "    parts = numbers.split(value)\n",
    "    parts[1::2] = map(int, parts[1::2])\n",
    "    return parts\n",
    "\n",
    "for infile in sorted(glob.glob('E:\\\\Courses\\\\AML\\\\pix2pix-tensorflow\\\\movie_test\\\\out\\\\*.jpg'), key=numericalSort):\n",
    "    images.append(infile)"
   ]
  },
  {
   "cell_type": "code",
   "execution_count": null,
   "metadata": {},
   "outputs": [],
   "source": []
  },
  {
   "cell_type": "code",
   "execution_count": 89,
   "metadata": {},
   "outputs": [
    {
     "data": {
      "text/plain": [
       "['E:\\\\Courses\\\\AML\\\\pix2pix-tensorflow\\\\movie_test\\\\out\\\\0.jpg',\n",
       " 'E:\\\\Courses\\\\AML\\\\pix2pix-tensorflow\\\\movie_test\\\\out\\\\1.jpg',\n",
       " 'E:\\\\Courses\\\\AML\\\\pix2pix-tensorflow\\\\movie_test\\\\out\\\\2.jpg',\n",
       " 'E:\\\\Courses\\\\AML\\\\pix2pix-tensorflow\\\\movie_test\\\\out\\\\3.jpg',\n",
       " 'E:\\\\Courses\\\\AML\\\\pix2pix-tensorflow\\\\movie_test\\\\out\\\\4.jpg',\n",
       " 'E:\\\\Courses\\\\AML\\\\pix2pix-tensorflow\\\\movie_test\\\\out\\\\5.jpg',\n",
       " 'E:\\\\Courses\\\\AML\\\\pix2pix-tensorflow\\\\movie_test\\\\out\\\\6.jpg',\n",
       " 'E:\\\\Courses\\\\AML\\\\pix2pix-tensorflow\\\\movie_test\\\\out\\\\7.jpg',\n",
       " 'E:\\\\Courses\\\\AML\\\\pix2pix-tensorflow\\\\movie_test\\\\out\\\\8.jpg',\n",
       " 'E:\\\\Courses\\\\AML\\\\pix2pix-tensorflow\\\\movie_test\\\\out\\\\9.jpg',\n",
       " 'E:\\\\Courses\\\\AML\\\\pix2pix-tensorflow\\\\movie_test\\\\out\\\\10.jpg',\n",
       " 'E:\\\\Courses\\\\AML\\\\pix2pix-tensorflow\\\\movie_test\\\\out\\\\11.jpg',\n",
       " 'E:\\\\Courses\\\\AML\\\\pix2pix-tensorflow\\\\movie_test\\\\out\\\\12.jpg',\n",
       " 'E:\\\\Courses\\\\AML\\\\pix2pix-tensorflow\\\\movie_test\\\\out\\\\13.jpg',\n",
       " 'E:\\\\Courses\\\\AML\\\\pix2pix-tensorflow\\\\movie_test\\\\out\\\\14.jpg',\n",
       " 'E:\\\\Courses\\\\AML\\\\pix2pix-tensorflow\\\\movie_test\\\\out\\\\15.jpg',\n",
       " 'E:\\\\Courses\\\\AML\\\\pix2pix-tensorflow\\\\movie_test\\\\out\\\\16.jpg',\n",
       " 'E:\\\\Courses\\\\AML\\\\pix2pix-tensorflow\\\\movie_test\\\\out\\\\17.jpg',\n",
       " 'E:\\\\Courses\\\\AML\\\\pix2pix-tensorflow\\\\movie_test\\\\out\\\\18.jpg',\n",
       " 'E:\\\\Courses\\\\AML\\\\pix2pix-tensorflow\\\\movie_test\\\\out\\\\19.jpg']"
      ]
     },
     "execution_count": 89,
     "metadata": {},
     "output_type": "execute_result"
    }
   ],
   "source": [
    "## Checking if the frames are in order\n",
    "images[0:20]"
   ]
  },
  {
   "cell_type": "code",
   "execution_count": 90,
   "metadata": {},
   "outputs": [],
   "source": [
    "name = []\n",
    "\n",
    "for i in range(len(images)):\n",
    "    filename=images[i]\n",
    "    name.append(filename)\n",
    "    img = cv2.imread(filename)\n",
    "    height, width, layers = img.shape\n",
    "    size = (width,height)\n",
    "    \n",
    "    #inserting the frames into an image array\n",
    "    frame_array.append(img)\n"
   ]
  },
  {
   "cell_type": "code",
   "execution_count": null,
   "metadata": {},
   "outputs": [],
   "source": []
  },
  {
   "cell_type": "code",
   "execution_count": 93,
   "metadata": {},
   "outputs": [],
   "source": [
    "out = cv2.VideoWriter(pathOut,cv2.VideoWriter_fourcc(*'DIVX'), fps, size)\n",
    "for i in range(len(frame_array)):\n",
    "    # writing to a image array\n",
    "    out.write(frame_array[i])\n",
    "out.release()"
   ]
  },
  {
   "cell_type": "code",
   "execution_count": null,
   "metadata": {},
   "outputs": [],
   "source": []
  }
 ],
 "metadata": {
  "kernelspec": {
   "display_name": "Python 3",
   "language": "python",
   "name": "python3"
  },
  "language_info": {
   "codemirror_mode": {
    "name": "ipython",
    "version": 3
   },
   "file_extension": ".py",
   "mimetype": "text/x-python",
   "name": "python",
   "nbconvert_exporter": "python",
   "pygments_lexer": "ipython3",
   "version": "3.5.6"
  }
 },
 "nbformat": 4,
 "nbformat_minor": 2
}
